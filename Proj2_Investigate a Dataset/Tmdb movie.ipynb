{
 "cells": [
  {
   "cell_type": "markdown",
   "metadata": {},
   "source": [
    "> **Tip**: Welcome to the Investigate a Dataset project! You will find tips in quoted sections like this to help organize your approach to your investigation. Before submitting your project, it will be a good idea to go back through your report and remove these sections to make the presentation of your work as tidy as possible. First things first, you might want to double-click this Markdown cell and change the title so that it reflects your dataset and investigation.\n",
    "\n",
    "# TMDB movies\n",
    "\n",
    "## Table of Contents\n",
    "<ul>\n",
    "<li><a href=\"#intro\">Introduction</a></li>\n",
    "<li><a href=\"#wrangling\">Data Wrangling</a></li>\n",
    "<li><a href=\"#eda\">Exploratory Data Analysis</a></li>\n",
    "<li><a href=\"#conclusions\">Conclusions</a></li>\n",
    "</ul>"
   ]
  },
  {
   "cell_type": "markdown",
   "metadata": {},
   "source": [
    "<a id='intro'></a>\n",
    "## Introduction\n",
    "\n",
    "> **Tip**: In this section of the report, provide a brief introduction to the dataset you've selected for analysis. At the end of this section, describe the questions that you plan on exploring over the course of the report. Try to build your report around the analysis of at least one dependent variable and three independent variables.\n",
    ">\n",
    "> If you haven't yet selected and downloaded your data, make sure you do that first before coming back here. If you're not sure what questions to ask right now, then make sure you familiarize yourself with the variables and the dataset context for ideas of what to explore."
   ]
  },
  {
   "cell_type": "code",
   "execution_count": 2,
   "metadata": {
    "collapsed": true
   },
   "outputs": [],
   "source": [
    "# Use this cell to set up import statements for all of the packages that you\n",
    "#   plan to use.\n",
    "\n",
    "# Remember to include a 'magic word' so that your visualizations are plotted\n",
    "#   inline with the notebook. See this page for more:\n",
    "#   http://ipython.readthedocs.io/en/stable/interactive/magics.html\n"
   ]
  },
  {
   "cell_type": "markdown",
   "metadata": {},
   "source": [
    "<a id='wrangling'></a>\n",
    "## Data Wrangling\n",
    "\n",
    "> **Tip**: In this section of the report, you will load in the data, check for cleanliness, and then trim and clean your dataset for analysis. Make sure that you document your steps carefully and justify your cleaning decisions.\n",
    "\n",
    "### General Properties"
   ]
  },
  {
   "cell_type": "code",
   "execution_count": 3,
   "metadata": {
    "collapsed": true
   },
   "outputs": [],
   "source": [
    "import pandas as pd\n",
    "import numpy as np\n",
    "from matplotlib  import pyplot as plt\n",
    "import seaborn as sns\n",
    "import statsmodels.api as sm"
   ]
  },
  {
   "cell_type": "code",
   "execution_count": 4,
   "metadata": {},
   "outputs": [
    {
     "data": {
      "text/html": [
       "<div>\n",
       "<style scoped>\n",
       "    .dataframe tbody tr th:only-of-type {\n",
       "        vertical-align: middle;\n",
       "    }\n",
       "\n",
       "    .dataframe tbody tr th {\n",
       "        vertical-align: top;\n",
       "    }\n",
       "\n",
       "    .dataframe thead th {\n",
       "        text-align: right;\n",
       "    }\n",
       "</style>\n",
       "<table border=\"1\" class=\"dataframe\">\n",
       "  <thead>\n",
       "    <tr style=\"text-align: right;\">\n",
       "      <th></th>\n",
       "      <th>id</th>\n",
       "      <th>imdb_id</th>\n",
       "      <th>popularity</th>\n",
       "      <th>budget</th>\n",
       "      <th>revenue</th>\n",
       "      <th>original_title</th>\n",
       "      <th>cast</th>\n",
       "      <th>homepage</th>\n",
       "      <th>director</th>\n",
       "      <th>tagline</th>\n",
       "      <th>...</th>\n",
       "      <th>overview</th>\n",
       "      <th>runtime</th>\n",
       "      <th>genres</th>\n",
       "      <th>production_companies</th>\n",
       "      <th>release_date</th>\n",
       "      <th>vote_count</th>\n",
       "      <th>vote_average</th>\n",
       "      <th>release_year</th>\n",
       "      <th>budget_adj</th>\n",
       "      <th>revenue_adj</th>\n",
       "    </tr>\n",
       "  </thead>\n",
       "  <tbody>\n",
       "    <tr>\n",
       "      <th>0</th>\n",
       "      <td>135397</td>\n",
       "      <td>tt0369610</td>\n",
       "      <td>32.985763</td>\n",
       "      <td>150000000</td>\n",
       "      <td>1513528810</td>\n",
       "      <td>Jurassic World</td>\n",
       "      <td>Chris Pratt|Bryce Dallas Howard|Irrfan Khan|Vi...</td>\n",
       "      <td>http://www.jurassicworld.com/</td>\n",
       "      <td>Colin Trevorrow</td>\n",
       "      <td>The park is open.</td>\n",
       "      <td>...</td>\n",
       "      <td>Twenty-two years after the events of Jurassic ...</td>\n",
       "      <td>124</td>\n",
       "      <td>Action|Adventure|Science Fiction|Thriller</td>\n",
       "      <td>Universal Studios|Amblin Entertainment|Legenda...</td>\n",
       "      <td>6/9/15</td>\n",
       "      <td>5562</td>\n",
       "      <td>6.5</td>\n",
       "      <td>2015</td>\n",
       "      <td>1.379999e+08</td>\n",
       "      <td>1.392446e+09</td>\n",
       "    </tr>\n",
       "    <tr>\n",
       "      <th>1</th>\n",
       "      <td>76341</td>\n",
       "      <td>tt1392190</td>\n",
       "      <td>28.419936</td>\n",
       "      <td>150000000</td>\n",
       "      <td>378436354</td>\n",
       "      <td>Mad Max: Fury Road</td>\n",
       "      <td>Tom Hardy|Charlize Theron|Hugh Keays-Byrne|Nic...</td>\n",
       "      <td>http://www.madmaxmovie.com/</td>\n",
       "      <td>George Miller</td>\n",
       "      <td>What a Lovely Day.</td>\n",
       "      <td>...</td>\n",
       "      <td>An apocalyptic story set in the furthest reach...</td>\n",
       "      <td>120</td>\n",
       "      <td>Action|Adventure|Science Fiction|Thriller</td>\n",
       "      <td>Village Roadshow Pictures|Kennedy Miller Produ...</td>\n",
       "      <td>5/13/15</td>\n",
       "      <td>6185</td>\n",
       "      <td>7.1</td>\n",
       "      <td>2015</td>\n",
       "      <td>1.379999e+08</td>\n",
       "      <td>3.481613e+08</td>\n",
       "    </tr>\n",
       "    <tr>\n",
       "      <th>2</th>\n",
       "      <td>262500</td>\n",
       "      <td>tt2908446</td>\n",
       "      <td>13.112507</td>\n",
       "      <td>110000000</td>\n",
       "      <td>295238201</td>\n",
       "      <td>Insurgent</td>\n",
       "      <td>Shailene Woodley|Theo James|Kate Winslet|Ansel...</td>\n",
       "      <td>http://www.thedivergentseries.movie/#insurgent</td>\n",
       "      <td>Robert Schwentke</td>\n",
       "      <td>One Choice Can Destroy You</td>\n",
       "      <td>...</td>\n",
       "      <td>Beatrice Prior must confront her inner demons ...</td>\n",
       "      <td>119</td>\n",
       "      <td>Adventure|Science Fiction|Thriller</td>\n",
       "      <td>Summit Entertainment|Mandeville Films|Red Wago...</td>\n",
       "      <td>3/18/15</td>\n",
       "      <td>2480</td>\n",
       "      <td>6.3</td>\n",
       "      <td>2015</td>\n",
       "      <td>1.012000e+08</td>\n",
       "      <td>2.716190e+08</td>\n",
       "    </tr>\n",
       "    <tr>\n",
       "      <th>3</th>\n",
       "      <td>140607</td>\n",
       "      <td>tt2488496</td>\n",
       "      <td>11.173104</td>\n",
       "      <td>200000000</td>\n",
       "      <td>2068178225</td>\n",
       "      <td>Star Wars: The Force Awakens</td>\n",
       "      <td>Harrison Ford|Mark Hamill|Carrie Fisher|Adam D...</td>\n",
       "      <td>http://www.starwars.com/films/star-wars-episod...</td>\n",
       "      <td>J.J. Abrams</td>\n",
       "      <td>Every generation has a story.</td>\n",
       "      <td>...</td>\n",
       "      <td>Thirty years after defeating the Galactic Empi...</td>\n",
       "      <td>136</td>\n",
       "      <td>Action|Adventure|Science Fiction|Fantasy</td>\n",
       "      <td>Lucasfilm|Truenorth Productions|Bad Robot</td>\n",
       "      <td>12/15/15</td>\n",
       "      <td>5292</td>\n",
       "      <td>7.5</td>\n",
       "      <td>2015</td>\n",
       "      <td>1.839999e+08</td>\n",
       "      <td>1.902723e+09</td>\n",
       "    </tr>\n",
       "    <tr>\n",
       "      <th>4</th>\n",
       "      <td>168259</td>\n",
       "      <td>tt2820852</td>\n",
       "      <td>9.335014</td>\n",
       "      <td>190000000</td>\n",
       "      <td>1506249360</td>\n",
       "      <td>Furious 7</td>\n",
       "      <td>Vin Diesel|Paul Walker|Jason Statham|Michelle ...</td>\n",
       "      <td>http://www.furious7.com/</td>\n",
       "      <td>James Wan</td>\n",
       "      <td>Vengeance Hits Home</td>\n",
       "      <td>...</td>\n",
       "      <td>Deckard Shaw seeks revenge against Dominic Tor...</td>\n",
       "      <td>137</td>\n",
       "      <td>Action|Crime|Thriller</td>\n",
       "      <td>Universal Pictures|Original Film|Media Rights ...</td>\n",
       "      <td>4/1/15</td>\n",
       "      <td>2947</td>\n",
       "      <td>7.3</td>\n",
       "      <td>2015</td>\n",
       "      <td>1.747999e+08</td>\n",
       "      <td>1.385749e+09</td>\n",
       "    </tr>\n",
       "  </tbody>\n",
       "</table>\n",
       "<p>5 rows × 21 columns</p>\n",
       "</div>"
      ],
      "text/plain": [
       "       id    imdb_id  popularity     budget     revenue  \\\n",
       "0  135397  tt0369610   32.985763  150000000  1513528810   \n",
       "1   76341  tt1392190   28.419936  150000000   378436354   \n",
       "2  262500  tt2908446   13.112507  110000000   295238201   \n",
       "3  140607  tt2488496   11.173104  200000000  2068178225   \n",
       "4  168259  tt2820852    9.335014  190000000  1506249360   \n",
       "\n",
       "                 original_title  \\\n",
       "0                Jurassic World   \n",
       "1            Mad Max: Fury Road   \n",
       "2                     Insurgent   \n",
       "3  Star Wars: The Force Awakens   \n",
       "4                     Furious 7   \n",
       "\n",
       "                                                cast  \\\n",
       "0  Chris Pratt|Bryce Dallas Howard|Irrfan Khan|Vi...   \n",
       "1  Tom Hardy|Charlize Theron|Hugh Keays-Byrne|Nic...   \n",
       "2  Shailene Woodley|Theo James|Kate Winslet|Ansel...   \n",
       "3  Harrison Ford|Mark Hamill|Carrie Fisher|Adam D...   \n",
       "4  Vin Diesel|Paul Walker|Jason Statham|Michelle ...   \n",
       "\n",
       "                                            homepage          director  \\\n",
       "0                      http://www.jurassicworld.com/   Colin Trevorrow   \n",
       "1                        http://www.madmaxmovie.com/     George Miller   \n",
       "2     http://www.thedivergentseries.movie/#insurgent  Robert Schwentke   \n",
       "3  http://www.starwars.com/films/star-wars-episod...       J.J. Abrams   \n",
       "4                           http://www.furious7.com/         James Wan   \n",
       "\n",
       "                         tagline  ...  \\\n",
       "0              The park is open.  ...   \n",
       "1             What a Lovely Day.  ...   \n",
       "2     One Choice Can Destroy You  ...   \n",
       "3  Every generation has a story.  ...   \n",
       "4            Vengeance Hits Home  ...   \n",
       "\n",
       "                                            overview runtime  \\\n",
       "0  Twenty-two years after the events of Jurassic ...     124   \n",
       "1  An apocalyptic story set in the furthest reach...     120   \n",
       "2  Beatrice Prior must confront her inner demons ...     119   \n",
       "3  Thirty years after defeating the Galactic Empi...     136   \n",
       "4  Deckard Shaw seeks revenge against Dominic Tor...     137   \n",
       "\n",
       "                                      genres  \\\n",
       "0  Action|Adventure|Science Fiction|Thriller   \n",
       "1  Action|Adventure|Science Fiction|Thriller   \n",
       "2         Adventure|Science Fiction|Thriller   \n",
       "3   Action|Adventure|Science Fiction|Fantasy   \n",
       "4                      Action|Crime|Thriller   \n",
       "\n",
       "                                production_companies release_date vote_count  \\\n",
       "0  Universal Studios|Amblin Entertainment|Legenda...       6/9/15       5562   \n",
       "1  Village Roadshow Pictures|Kennedy Miller Produ...      5/13/15       6185   \n",
       "2  Summit Entertainment|Mandeville Films|Red Wago...      3/18/15       2480   \n",
       "3          Lucasfilm|Truenorth Productions|Bad Robot     12/15/15       5292   \n",
       "4  Universal Pictures|Original Film|Media Rights ...       4/1/15       2947   \n",
       "\n",
       "   vote_average  release_year    budget_adj   revenue_adj  \n",
       "0           6.5          2015  1.379999e+08  1.392446e+09  \n",
       "1           7.1          2015  1.379999e+08  3.481613e+08  \n",
       "2           6.3          2015  1.012000e+08  2.716190e+08  \n",
       "3           7.5          2015  1.839999e+08  1.902723e+09  \n",
       "4           7.3          2015  1.747999e+08  1.385749e+09  \n",
       "\n",
       "[5 rows x 21 columns]"
      ]
     },
     "execution_count": 4,
     "metadata": {},
     "output_type": "execute_result"
    }
   ],
   "source": [
    "df=pd.read_csv(\"tmdb-movies.csv\")\n",
    "df.head(5)"
   ]
  },
  {
   "cell_type": "code",
   "execution_count": 5,
   "metadata": {},
   "outputs": [
    {
     "name": "stdout",
     "output_type": "stream",
     "text": [
      "<class 'pandas.core.frame.DataFrame'>\n",
      "RangeIndex: 10866 entries, 0 to 10865\n",
      "Data columns (total 21 columns):\n",
      "id                      10866 non-null int64\n",
      "imdb_id                 10856 non-null object\n",
      "popularity              10866 non-null float64\n",
      "budget                  10866 non-null int64\n",
      "revenue                 10866 non-null int64\n",
      "original_title          10866 non-null object\n",
      "cast                    10790 non-null object\n",
      "homepage                2936 non-null object\n",
      "director                10822 non-null object\n",
      "tagline                 8042 non-null object\n",
      "keywords                9373 non-null object\n",
      "overview                10862 non-null object\n",
      "runtime                 10866 non-null int64\n",
      "genres                  10843 non-null object\n",
      "production_companies    9836 non-null object\n",
      "release_date            10866 non-null object\n",
      "vote_count              10866 non-null int64\n",
      "vote_average            10866 non-null float64\n",
      "release_year            10866 non-null int64\n",
      "budget_adj              10866 non-null float64\n",
      "revenue_adj             10866 non-null float64\n",
      "dtypes: float64(4), int64(6), object(11)\n",
      "memory usage: 1.7+ MB\n"
     ]
    }
   ],
   "source": [
    "df.info()"
   ]
  },
  {
   "cell_type": "markdown",
   "metadata": {},
   "source": [
    "After looking into the dataset I am going to find answers for the following questions:\n",
    "\n",
    "1.) How have been the popularity of genres throughout the timeline (1966-2015)?\n",
    "\n",
    "2.) Relation between popularity,budget and revenue?\n",
    "    a.) How is budget and revenue related?\n",
    "    b.) How is popularity and revenue related?\n",
    "    c.) How is budget and popularity related?\n",
    "    \n",
    "3.) Whose movie earned the highest total revenue? \n",
    "    a.) Leonardo DiCaprio\n",
    "    b.) Harrison Ford\n",
    "    c.) Dwayne Johnson\n",
    "    d.) Tom Cruise\n",
    "    e.) Christian Bale"
   ]
  },
  {
   "cell_type": "markdown",
   "metadata": {},
   "source": [
    "\n",
    "\n",
    "### Data Cleaning \n",
    "\n"
   ]
  },
  {
   "cell_type": "markdown",
   "metadata": {},
   "source": [
    "-> For my analysis I will be needing id, populairty, budget, revenue, original_title, cast, genres and release_year. Rest all columns will be dropped.\n",
    "\n",
    "-> For better sake I will round off popularity to 2 decimal points.\n",
    "\n",
    "-> Removing other genres except for the first one\n",
    "\n",
    "->Filling null values of cast and genres with unknown\n",
    "\n",
    "->Filling 0 of Budget and revenue with the mean value of budget and revenue\n"
   ]
  },
  {
   "cell_type": "markdown",
   "metadata": {},
   "source": [
    "**Define**\n",
    "\n",
    "Changing dataType of budget and revenue.\n",
    "\n",
    "Dropping unncecessary columns.\n",
    "\n",
    "**Code**"
   ]
  },
  {
   "cell_type": "code",
   "execution_count": 6,
   "metadata": {},
   "outputs": [],
   "source": [
    "df['budget'] = df['budget'].astype(int)\n",
    "df['revenue'] = df['revenue'].astype(int)"
   ]
  },
  {
   "cell_type": "code",
   "execution_count": 7,
   "metadata": {},
   "outputs": [],
   "source": [
    "df=df.drop([\"homepage\",\"director\",\"tagline\",\"imdb_id\",\"keywords\",\"overview\",\"runtime\",\"release_date\",\"production_companies\",\"vote_count\",\"vote_average\",\n",
    "        \"budget_adj\",\"revenue_adj\"],axis=1)\n",
    "\n"
   ]
  },
  {
   "cell_type": "markdown",
   "metadata": {},
   "source": [
    "**Test**"
   ]
  },
  {
   "cell_type": "code",
   "execution_count": 8,
   "metadata": {},
   "outputs": [
    {
     "name": "stdout",
     "output_type": "stream",
     "text": [
      "<class 'pandas.core.frame.DataFrame'>\n",
      "RangeIndex: 10866 entries, 0 to 10865\n",
      "Data columns (total 8 columns):\n",
      "id                10866 non-null int64\n",
      "popularity        10866 non-null float64\n",
      "budget            10866 non-null int32\n",
      "revenue           10866 non-null int32\n",
      "original_title    10866 non-null object\n",
      "cast              10790 non-null object\n",
      "genres            10843 non-null object\n",
      "release_year      10866 non-null int64\n",
      "dtypes: float64(1), int32(2), int64(2), object(3)\n",
      "memory usage: 594.3+ KB\n"
     ]
    }
   ],
   "source": [
    "df.info()"
   ]
  },
  {
   "cell_type": "markdown",
   "metadata": {},
   "source": [
    "**Define**\n",
    "\n",
    "Filling null values of genres and Cast with \"Unknown\"\n",
    "\n",
    "Removing others genres after \"|\".\n",
    "\n",
    "**Code**"
   ]
  },
  {
   "cell_type": "code",
   "execution_count": 9,
   "metadata": {},
   "outputs": [
    {
     "data": {
      "text/plain": [
       "0       Action\n",
       "1       Action\n",
       "2    Adventure\n",
       "3       Action\n",
       "4       Action\n",
       "Name: genres, dtype: object"
      ]
     },
     "execution_count": 9,
     "metadata": {},
     "output_type": "execute_result"
    }
   ],
   "source": [
    "df['genres'] = df['genres'].fillna('Unknown')\n",
    "df['genres']=df['genres'].apply(lambda x: x.split('|')[0])\n",
    "df['genres'].head(5)"
   ]
  },
  {
   "cell_type": "code",
   "execution_count": 10,
   "metadata": {},
   "outputs": [
    {
     "data": {
      "text/html": [
       "<div>\n",
       "<style scoped>\n",
       "    .dataframe tbody tr th:only-of-type {\n",
       "        vertical-align: middle;\n",
       "    }\n",
       "\n",
       "    .dataframe tbody tr th {\n",
       "        vertical-align: top;\n",
       "    }\n",
       "\n",
       "    .dataframe thead th {\n",
       "        text-align: right;\n",
       "    }\n",
       "</style>\n",
       "<table border=\"1\" class=\"dataframe\">\n",
       "  <thead>\n",
       "    <tr style=\"text-align: right;\">\n",
       "      <th></th>\n",
       "      <th>id</th>\n",
       "      <th>popularity</th>\n",
       "      <th>budget</th>\n",
       "      <th>revenue</th>\n",
       "      <th>original_title</th>\n",
       "      <th>cast</th>\n",
       "      <th>genres</th>\n",
       "      <th>release_year</th>\n",
       "    </tr>\n",
       "  </thead>\n",
       "  <tbody>\n",
       "    <tr>\n",
       "      <th>424</th>\n",
       "      <td>363869</td>\n",
       "      <td>0.244648</td>\n",
       "      <td>0</td>\n",
       "      <td>0</td>\n",
       "      <td>Belli di papÃ</td>\n",
       "      <td>Diego Abatantuono|Matilde Gioli|Andrea Pisani|...</td>\n",
       "      <td>Unknown</td>\n",
       "      <td>2015</td>\n",
       "    </tr>\n",
       "    <tr>\n",
       "      <th>620</th>\n",
       "      <td>361043</td>\n",
       "      <td>0.129696</td>\n",
       "      <td>0</td>\n",
       "      <td>0</td>\n",
       "      <td>All Hallows' Eve 2</td>\n",
       "      <td>NaN</td>\n",
       "      <td>Unknown</td>\n",
       "      <td>2015</td>\n",
       "    </tr>\n",
       "    <tr>\n",
       "      <th>997</th>\n",
       "      <td>287663</td>\n",
       "      <td>0.330431</td>\n",
       "      <td>0</td>\n",
       "      <td>0</td>\n",
       "      <td>Star Wars Rebels: Spark of Rebellion</td>\n",
       "      <td>Freddie Prinze Jr.|Vanessa Marshall|Steve Blum...</td>\n",
       "      <td>Unknown</td>\n",
       "      <td>2014</td>\n",
       "    </tr>\n",
       "    <tr>\n",
       "      <th>1712</th>\n",
       "      <td>21634</td>\n",
       "      <td>0.302095</td>\n",
       "      <td>0</td>\n",
       "      <td>0</td>\n",
       "      <td>Prayers for Bobby</td>\n",
       "      <td>Ryan Kelley|Sigourney Weaver|Henry Czerny|Dan ...</td>\n",
       "      <td>Unknown</td>\n",
       "      <td>2009</td>\n",
       "    </tr>\n",
       "    <tr>\n",
       "      <th>1897</th>\n",
       "      <td>40534</td>\n",
       "      <td>0.020701</td>\n",
       "      <td>0</td>\n",
       "      <td>0</td>\n",
       "      <td>Jonas Brothers: The Concert Experience</td>\n",
       "      <td>Nick Jonas|Joe Jonas|Kevin Jonas|John Lloyd Ta...</td>\n",
       "      <td>Unknown</td>\n",
       "      <td>2009</td>\n",
       "    </tr>\n",
       "    <tr>\n",
       "      <th>2370</th>\n",
       "      <td>127717</td>\n",
       "      <td>0.081892</td>\n",
       "      <td>0</td>\n",
       "      <td>0</td>\n",
       "      <td>Freshman Father</td>\n",
       "      <td>Britt Irvin|Merrilyn Gann|Barbara Tyson|Anthon...</td>\n",
       "      <td>Unknown</td>\n",
       "      <td>2010</td>\n",
       "    </tr>\n",
       "    <tr>\n",
       "      <th>2376</th>\n",
       "      <td>315620</td>\n",
       "      <td>0.068411</td>\n",
       "      <td>0</td>\n",
       "      <td>0</td>\n",
       "      <td>Doctor Who: A Christmas Carol</td>\n",
       "      <td>Matt Smith|Karen Gillan|Arthur Darvill|Michael...</td>\n",
       "      <td>Unknown</td>\n",
       "      <td>2010</td>\n",
       "    </tr>\n",
       "    <tr>\n",
       "      <th>2853</th>\n",
       "      <td>57892</td>\n",
       "      <td>0.130018</td>\n",
       "      <td>0</td>\n",
       "      <td>0</td>\n",
       "      <td>Vizontele</td>\n",
       "      <td>YÄ±lmaz ErdoÄŸan|Demet Akbag|Altan Erkekli|Cem...</td>\n",
       "      <td>Unknown</td>\n",
       "      <td>2001</td>\n",
       "    </tr>\n",
       "    <tr>\n",
       "      <th>3279</th>\n",
       "      <td>54330</td>\n",
       "      <td>0.145331</td>\n",
       "      <td>0</td>\n",
       "      <td>0</td>\n",
       "      <td>ì•„ê¸°ì™€ ë‚˜</td>\n",
       "      <td>Jang Keun-suk|Song Ha-yoon|Kim Jeong-Nan</td>\n",
       "      <td>Unknown</td>\n",
       "      <td>2008</td>\n",
       "    </tr>\n",
       "    <tr>\n",
       "      <th>4547</th>\n",
       "      <td>123024</td>\n",
       "      <td>0.520520</td>\n",
       "      <td>0</td>\n",
       "      <td>0</td>\n",
       "      <td>London 2012 Olympic Opening Ceremony: Isles of...</td>\n",
       "      <td>Queen Elizabeth II|Mike Oldfield|Kenneth Brana...</td>\n",
       "      <td>Unknown</td>\n",
       "      <td>2012</td>\n",
       "    </tr>\n",
       "  </tbody>\n",
       "</table>\n",
       "</div>"
      ],
      "text/plain": [
       "          id  popularity  budget  revenue  \\\n",
       "424   363869    0.244648       0        0   \n",
       "620   361043    0.129696       0        0   \n",
       "997   287663    0.330431       0        0   \n",
       "1712   21634    0.302095       0        0   \n",
       "1897   40534    0.020701       0        0   \n",
       "2370  127717    0.081892       0        0   \n",
       "2376  315620    0.068411       0        0   \n",
       "2853   57892    0.130018       0        0   \n",
       "3279   54330    0.145331       0        0   \n",
       "4547  123024    0.520520       0        0   \n",
       "\n",
       "                                         original_title  \\\n",
       "424                                      Belli di papÃ    \n",
       "620                                  All Hallows' Eve 2   \n",
       "997                Star Wars Rebels: Spark of Rebellion   \n",
       "1712                                  Prayers for Bobby   \n",
       "1897             Jonas Brothers: The Concert Experience   \n",
       "2370                                    Freshman Father   \n",
       "2376                      Doctor Who: A Christmas Carol   \n",
       "2853                                          Vizontele   \n",
       "3279                                      ì•„ê¸°ì™€ ë‚˜   \n",
       "4547  London 2012 Olympic Opening Ceremony: Isles of...   \n",
       "\n",
       "                                                   cast   genres  release_year  \n",
       "424   Diego Abatantuono|Matilde Gioli|Andrea Pisani|...  Unknown          2015  \n",
       "620                                                 NaN  Unknown          2015  \n",
       "997   Freddie Prinze Jr.|Vanessa Marshall|Steve Blum...  Unknown          2014  \n",
       "1712  Ryan Kelley|Sigourney Weaver|Henry Czerny|Dan ...  Unknown          2009  \n",
       "1897  Nick Jonas|Joe Jonas|Kevin Jonas|John Lloyd Ta...  Unknown          2009  \n",
       "2370  Britt Irvin|Merrilyn Gann|Barbara Tyson|Anthon...  Unknown          2010  \n",
       "2376  Matt Smith|Karen Gillan|Arthur Darvill|Michael...  Unknown          2010  \n",
       "2853  YÄ±lmaz ErdoÄŸan|Demet Akbag|Altan Erkekli|Cem...  Unknown          2001  \n",
       "3279           Jang Keun-suk|Song Ha-yoon|Kim Jeong-Nan  Unknown          2008  \n",
       "4547  Queen Elizabeth II|Mike Oldfield|Kenneth Brana...  Unknown          2012  "
      ]
     },
     "execution_count": 10,
     "metadata": {},
     "output_type": "execute_result"
    }
   ],
   "source": [
    "df.query('genres == \"Unknown\"').head(10)"
   ]
  },
  {
   "cell_type": "code",
   "execution_count": 11,
   "metadata": {},
   "outputs": [
    {
     "data": {
      "text/html": [
       "<div>\n",
       "<style scoped>\n",
       "    .dataframe tbody tr th:only-of-type {\n",
       "        vertical-align: middle;\n",
       "    }\n",
       "\n",
       "    .dataframe tbody tr th {\n",
       "        vertical-align: top;\n",
       "    }\n",
       "\n",
       "    .dataframe thead th {\n",
       "        text-align: right;\n",
       "    }\n",
       "</style>\n",
       "<table border=\"1\" class=\"dataframe\">\n",
       "  <thead>\n",
       "    <tr style=\"text-align: right;\">\n",
       "      <th></th>\n",
       "      <th>id</th>\n",
       "      <th>popularity</th>\n",
       "      <th>budget</th>\n",
       "      <th>revenue</th>\n",
       "      <th>original_title</th>\n",
       "      <th>cast</th>\n",
       "      <th>genres</th>\n",
       "      <th>release_year</th>\n",
       "    </tr>\n",
       "  </thead>\n",
       "  <tbody>\n",
       "    <tr>\n",
       "      <th>371</th>\n",
       "      <td>345637</td>\n",
       "      <td>0.422901</td>\n",
       "      <td>0</td>\n",
       "      <td>0</td>\n",
       "      <td>Sanjay's Super Team</td>\n",
       "      <td>Unknown</td>\n",
       "      <td>Animation</td>\n",
       "      <td>2015</td>\n",
       "    </tr>\n",
       "    <tr>\n",
       "      <th>441</th>\n",
       "      <td>355020</td>\n",
       "      <td>0.220751</td>\n",
       "      <td>0</td>\n",
       "      <td>0</td>\n",
       "      <td>Winter on Fire: Ukraine's Fight for Freedom</td>\n",
       "      <td>Unknown</td>\n",
       "      <td>Documentary</td>\n",
       "      <td>2015</td>\n",
       "    </tr>\n",
       "    <tr>\n",
       "      <th>465</th>\n",
       "      <td>321109</td>\n",
       "      <td>0.201696</td>\n",
       "      <td>0</td>\n",
       "      <td>0</td>\n",
       "      <td>Bitter Lake</td>\n",
       "      <td>Unknown</td>\n",
       "      <td>Documentary</td>\n",
       "      <td>2015</td>\n",
       "    </tr>\n",
       "    <tr>\n",
       "      <th>536</th>\n",
       "      <td>333350</td>\n",
       "      <td>0.122543</td>\n",
       "      <td>0</td>\n",
       "      <td>0</td>\n",
       "      <td>A Faster Horse</td>\n",
       "      <td>Unknown</td>\n",
       "      <td>Documentary</td>\n",
       "      <td>2015</td>\n",
       "    </tr>\n",
       "    <tr>\n",
       "      <th>538</th>\n",
       "      <td>224972</td>\n",
       "      <td>0.114264</td>\n",
       "      <td>0</td>\n",
       "      <td>0</td>\n",
       "      <td>The Mask You Live In</td>\n",
       "      <td>Unknown</td>\n",
       "      <td>Documentary</td>\n",
       "      <td>2015</td>\n",
       "    </tr>\n",
       "    <tr>\n",
       "      <th>587</th>\n",
       "      <td>319091</td>\n",
       "      <td>0.062536</td>\n",
       "      <td>0</td>\n",
       "      <td>0</td>\n",
       "      <td>The Hunting Ground</td>\n",
       "      <td>Unknown</td>\n",
       "      <td>Documentary</td>\n",
       "      <td>2015</td>\n",
       "    </tr>\n",
       "    <tr>\n",
       "      <th>600</th>\n",
       "      <td>332479</td>\n",
       "      <td>0.047256</td>\n",
       "      <td>0</td>\n",
       "      <td>0</td>\n",
       "      <td>Star Wars: TIE Fighter</td>\n",
       "      <td>Unknown</td>\n",
       "      <td>Science Fiction</td>\n",
       "      <td>2015</td>\n",
       "    </tr>\n",
       "    <tr>\n",
       "      <th>620</th>\n",
       "      <td>361043</td>\n",
       "      <td>0.129696</td>\n",
       "      <td>0</td>\n",
       "      <td>0</td>\n",
       "      <td>All Hallows' Eve 2</td>\n",
       "      <td>Unknown</td>\n",
       "      <td>Unknown</td>\n",
       "      <td>2015</td>\n",
       "    </tr>\n",
       "    <tr>\n",
       "      <th>1088</th>\n",
       "      <td>169607</td>\n",
       "      <td>0.226028</td>\n",
       "      <td>0</td>\n",
       "      <td>1503616</td>\n",
       "      <td>Finding Vivian Maier</td>\n",
       "      <td>Unknown</td>\n",
       "      <td>Documentary</td>\n",
       "      <td>2014</td>\n",
       "    </tr>\n",
       "    <tr>\n",
       "      <th>1173</th>\n",
       "      <td>261041</td>\n",
       "      <td>0.159037</td>\n",
       "      <td>0</td>\n",
       "      <td>0</td>\n",
       "      <td>The Search for General Tso</td>\n",
       "      <td>Unknown</td>\n",
       "      <td>Documentary</td>\n",
       "      <td>2014</td>\n",
       "    </tr>\n",
       "  </tbody>\n",
       "</table>\n",
       "</div>"
      ],
      "text/plain": [
       "          id  popularity  budget  revenue  \\\n",
       "371   345637    0.422901       0        0   \n",
       "441   355020    0.220751       0        0   \n",
       "465   321109    0.201696       0        0   \n",
       "536   333350    0.122543       0        0   \n",
       "538   224972    0.114264       0        0   \n",
       "587   319091    0.062536       0        0   \n",
       "600   332479    0.047256       0        0   \n",
       "620   361043    0.129696       0        0   \n",
       "1088  169607    0.226028       0  1503616   \n",
       "1173  261041    0.159037       0        0   \n",
       "\n",
       "                                   original_title     cast           genres  \\\n",
       "371                           Sanjay's Super Team  Unknown        Animation   \n",
       "441   Winter on Fire: Ukraine's Fight for Freedom  Unknown      Documentary   \n",
       "465                                   Bitter Lake  Unknown      Documentary   \n",
       "536                                A Faster Horse  Unknown      Documentary   \n",
       "538                          The Mask You Live In  Unknown      Documentary   \n",
       "587                            The Hunting Ground  Unknown      Documentary   \n",
       "600                        Star Wars: TIE Fighter  Unknown  Science Fiction   \n",
       "620                            All Hallows' Eve 2  Unknown          Unknown   \n",
       "1088                         Finding Vivian Maier  Unknown      Documentary   \n",
       "1173                   The Search for General Tso  Unknown      Documentary   \n",
       "\n",
       "      release_year  \n",
       "371           2015  \n",
       "441           2015  \n",
       "465           2015  \n",
       "536           2015  \n",
       "538           2015  \n",
       "587           2015  \n",
       "600           2015  \n",
       "620           2015  \n",
       "1088          2014  \n",
       "1173          2014  "
      ]
     },
     "execution_count": 11,
     "metadata": {},
     "output_type": "execute_result"
    }
   ],
   "source": [
    "df['cast'] = df['cast'].fillna('Unknown')\n",
    "df.query('cast == \"Unknown\"').head(10)"
   ]
  },
  {
   "cell_type": "markdown",
   "metadata": {},
   "source": [
    "**Test**"
   ]
  },
  {
   "cell_type": "code",
   "execution_count": 12,
   "metadata": {},
   "outputs": [
    {
     "name": "stdout",
     "output_type": "stream",
     "text": [
      "<class 'pandas.core.frame.DataFrame'>\n",
      "RangeIndex: 10866 entries, 0 to 10865\n",
      "Data columns (total 8 columns):\n",
      "id                10866 non-null int64\n",
      "popularity        10866 non-null float64\n",
      "budget            10866 non-null int32\n",
      "revenue           10866 non-null int32\n",
      "original_title    10866 non-null object\n",
      "cast              10866 non-null object\n",
      "genres            10866 non-null object\n",
      "release_year      10866 non-null int64\n",
      "dtypes: float64(1), int32(2), int64(2), object(3)\n",
      "memory usage: 594.3+ KB\n"
     ]
    }
   ],
   "source": [
    "df.info()"
   ]
  },
  {
   "cell_type": "markdown",
   "metadata": {},
   "source": [
    "**Define**\n",
    "\n",
    "Roudning  of popularity to 2 decimal values\n",
    "\n",
    "**Code**"
   ]
  },
  {
   "cell_type": "code",
   "execution_count": 13,
   "metadata": {},
   "outputs": [],
   "source": [
    "df['popularity']=round(df['popularity'],2)"
   ]
  },
  {
   "cell_type": "markdown",
   "metadata": {},
   "source": [
    "**Test**\n"
   ]
  },
  {
   "cell_type": "code",
   "execution_count": 14,
   "metadata": {},
   "outputs": [
    {
     "data": {
      "text/plain": [
       "0    32.99\n",
       "1    28.42\n",
       "2    13.11\n",
       "3    11.17\n",
       "4     9.34\n",
       "Name: popularity, dtype: float64"
      ]
     },
     "execution_count": 14,
     "metadata": {},
     "output_type": "execute_result"
    }
   ],
   "source": [
    "df['popularity'].head()"
   ]
  },
  {
   "cell_type": "markdown",
   "metadata": {},
   "source": [
    "**Define**\n",
    "\n",
    "Filling 0 of Budget and revenue with mean values.\n",
    "\n",
    "**Code**"
   ]
  },
  {
   "cell_type": "code",
   "execution_count": 15,
   "metadata": {},
   "outputs": [],
   "source": [
    "df['reveue']=df['revenue'].replace(0,df['revenue'].mean())\n",
    "df['budget']=df['budget'].replace(0,df['budget'].mean())"
   ]
  },
  {
   "cell_type": "code",
   "execution_count": null,
   "metadata": {},
   "outputs": [],
   "source": []
  },
  {
   "cell_type": "markdown",
   "metadata": {},
   "source": [
    "<a id='eda'></a>\n",
    "##  Data Analysis and Visualization\n",
    "\n",
    " \n",
    "###  1.) How have been the popularity of different genres through the timeline (1966-2015)?"
   ]
  },
  {
   "cell_type": "code",
   "execution_count": 16,
   "metadata": {
    "collapsed": true
   },
   "outputs": [
    {
     "data": {
      "text/plain": [
       "Drama              2453\n",
       "Comedy             2319\n",
       "Action             1590\n",
       "Horror              915\n",
       "Adventure           586\n",
       "Thriller            491\n",
       "Documentary         432\n",
       "Animation           403\n",
       "Crime               381\n",
       "Fantasy             272\n",
       "Science Fiction     214\n",
       "Romance             186\n",
       "Family              144\n",
       "Mystery             125\n",
       "Music               100\n",
       "TV Movie             78\n",
       "War                  59\n",
       "History              44\n",
       "Western              42\n",
       "Unknown              23\n",
       "Foreign               9\n",
       "Name: genres, dtype: int64"
      ]
     },
     "execution_count": 16,
     "metadata": {},
     "output_type": "execute_result"
    }
   ],
   "source": [
    "df['genres'].value_counts()\n"
   ]
  },
  {
   "cell_type": "markdown",
   "metadata": {},
   "source": [
    "There are 21 genres, of them I am going to pick 4 genres which I like the most.\n",
    "\n",
    "1.) Adventure \n",
    " 2.) Thriller\n",
    "   3.) Comedy\n",
    "     4.) Animation\n",
    "\n"
   ]
  },
  {
   "cell_type": "code",
   "execution_count": 17,
   "metadata": {},
   "outputs": [],
   "source": [
    "df_adventure=df[df['genres'].str.contains('Adventure')]"
   ]
  },
  {
   "cell_type": "markdown",
   "metadata": {},
   "source": [
    "I verified by counting the number of entries in df_adventure dataframe with original dataframe having 'Adventure' in genre"
   ]
  },
  {
   "cell_type": "code",
   "execution_count": 19,
   "metadata": {},
   "outputs": [
    {
     "data": {
      "text/plain": [
       "True"
      ]
     },
     "execution_count": 19,
     "metadata": {},
     "output_type": "execute_result"
    }
   ],
   "source": [
    "df.genres.str.contains('Adventure').sum() == df_adventure['id'].count()"
   ]
  },
  {
   "cell_type": "code",
   "execution_count": 20,
   "metadata": {},
   "outputs": [
    {
     "name": "stderr",
     "output_type": "stream",
     "text": [
      "C:\\Users\\AARYA BRAHMANE\\Anaconda3\\lib\\site-packages\\ipykernel_launcher.py:5: SettingWithCopyWarning: \n",
      "A value is trying to be set on a copy of a slice from a DataFrame.\n",
      "Try using .loc[row_indexer,col_indexer] = value instead\n",
      "\n",
      "See the caveats in the documentation: http://pandas.pydata.org/pandas-docs/stable/indexing.html#indexing-view-versus-copy\n",
      "  \"\"\"\n"
     ]
    },
    {
     "data": {
      "text/html": [
       "<div>\n",
       "<style scoped>\n",
       "    .dataframe tbody tr th:only-of-type {\n",
       "        vertical-align: middle;\n",
       "    }\n",
       "\n",
       "    .dataframe tbody tr th {\n",
       "        vertical-align: top;\n",
       "    }\n",
       "\n",
       "    .dataframe thead th {\n",
       "        text-align: right;\n",
       "    }\n",
       "</style>\n",
       "<table border=\"1\" class=\"dataframe\">\n",
       "  <thead>\n",
       "    <tr style=\"text-align: right;\">\n",
       "      <th></th>\n",
       "      <th>id</th>\n",
       "      <th>popularity</th>\n",
       "      <th>budget</th>\n",
       "      <th>revenue</th>\n",
       "      <th>original_title</th>\n",
       "      <th>cast</th>\n",
       "      <th>genres</th>\n",
       "      <th>release_year</th>\n",
       "      <th>reveue</th>\n",
       "      <th>release_decade</th>\n",
       "    </tr>\n",
       "  </thead>\n",
       "  <tbody>\n",
       "    <tr>\n",
       "      <th>2</th>\n",
       "      <td>262500</td>\n",
       "      <td>13.11</td>\n",
       "      <td>110000000.0</td>\n",
       "      <td>295238201</td>\n",
       "      <td>Insurgent</td>\n",
       "      <td>Shailene Woodley|Theo James|Kate Winslet|Ansel...</td>\n",
       "      <td>Adventure</td>\n",
       "      <td>2015</td>\n",
       "      <td>295238201.0</td>\n",
       "      <td>2010</td>\n",
       "    </tr>\n",
       "    <tr>\n",
       "      <th>34</th>\n",
       "      <td>257445</td>\n",
       "      <td>3.64</td>\n",
       "      <td>58000000.0</td>\n",
       "      <td>150170815</td>\n",
       "      <td>Goosebumps</td>\n",
       "      <td>Jack Black|Dylan Minnette|Odeya Rush|Amy Ryan|...</td>\n",
       "      <td>Adventure</td>\n",
       "      <td>2015</td>\n",
       "      <td>150170815.0</td>\n",
       "      <td>2010</td>\n",
       "    </tr>\n",
       "    <tr>\n",
       "      <th>37</th>\n",
       "      <td>105864</td>\n",
       "      <td>3.34</td>\n",
       "      <td>175000000.0</td>\n",
       "      <td>331926147</td>\n",
       "      <td>The Good Dinosaur</td>\n",
       "      <td>Raymond Ochoa|Jack Bright|Jeffrey Wright|Franc...</td>\n",
       "      <td>Adventure</td>\n",
       "      <td>2015</td>\n",
       "      <td>331926147.0</td>\n",
       "      <td>2010</td>\n",
       "    </tr>\n",
       "    <tr>\n",
       "      <th>52</th>\n",
       "      <td>253412</td>\n",
       "      <td>2.80</td>\n",
       "      <td>55000000.0</td>\n",
       "      <td>203427584</td>\n",
       "      <td>Everest</td>\n",
       "      <td>Jason Clarke|Jake Gyllenhaal|Josh Brolin|John ...</td>\n",
       "      <td>Adventure</td>\n",
       "      <td>2015</td>\n",
       "      <td>203427584.0</td>\n",
       "      <td>2010</td>\n",
       "    </tr>\n",
       "    <tr>\n",
       "      <th>73</th>\n",
       "      <td>266647</td>\n",
       "      <td>2.23</td>\n",
       "      <td>150000000.0</td>\n",
       "      <td>128388320</td>\n",
       "      <td>Pan</td>\n",
       "      <td>Levi Miller|Garrett Hedlund|Hugh Jackman|Roone...</td>\n",
       "      <td>Adventure</td>\n",
       "      <td>2015</td>\n",
       "      <td>128388320.0</td>\n",
       "      <td>2010</td>\n",
       "    </tr>\n",
       "  </tbody>\n",
       "</table>\n",
       "</div>"
      ],
      "text/plain": [
       "        id  popularity       budget    revenue     original_title  \\\n",
       "2   262500       13.11  110000000.0  295238201          Insurgent   \n",
       "34  257445        3.64   58000000.0  150170815         Goosebumps   \n",
       "37  105864        3.34  175000000.0  331926147  The Good Dinosaur   \n",
       "52  253412        2.80   55000000.0  203427584            Everest   \n",
       "73  266647        2.23  150000000.0  128388320                Pan   \n",
       "\n",
       "                                                 cast     genres  \\\n",
       "2   Shailene Woodley|Theo James|Kate Winslet|Ansel...  Adventure   \n",
       "34  Jack Black|Dylan Minnette|Odeya Rush|Amy Ryan|...  Adventure   \n",
       "37  Raymond Ochoa|Jack Bright|Jeffrey Wright|Franc...  Adventure   \n",
       "52  Jason Clarke|Jake Gyllenhaal|Josh Brolin|John ...  Adventure   \n",
       "73  Levi Miller|Garrett Hedlund|Hugh Jackman|Roone...  Adventure   \n",
       "\n",
       "    release_year       reveue release_decade  \n",
       "2           2015  295238201.0           2010  \n",
       "34          2015  150170815.0           2010  \n",
       "37          2015  331926147.0           2010  \n",
       "52          2015  203427584.0           2010  \n",
       "73          2015  128388320.0           2010  "
      ]
     },
     "execution_count": 20,
     "metadata": {},
     "output_type": "execute_result"
    }
   ],
   "source": [
    "decades=[1960,1965,1970,1975,1980,1985,1990,1995,2000,2010,2015,2020]\n",
    "\n",
    "decade_name=['1960','1965','1970','1975','1980','1985','1990','1995,2000','2005','2010','2015']\n",
    "\n",
    "df_adventure['release_decade']=pd.cut(df['release_year'],decades,labels=decade_name)\n",
    "\n",
    "df_adventure.head()"
   ]
  },
  {
   "cell_type": "code",
   "execution_count": 21,
   "metadata": {},
   "outputs": [
    {
     "data": {
      "text/plain": [
       "release_decade\n",
       "1960         0.869444\n",
       "1965         0.686923\n",
       "1970         0.771429\n",
       "1975         1.409500\n",
       "1980         1.006818\n",
       "1985         0.888571\n",
       "1990         0.867727\n",
       "1995,2000    0.962373\n",
       "2005         1.341549\n",
       "2010         1.600427\n",
       "2015              NaN\n",
       "Name: popularity, dtype: float64"
      ]
     },
     "execution_count": 21,
     "metadata": {},
     "output_type": "execute_result"
    }
   ],
   "source": [
    "a=df_adventure.groupby('release_decade')['popularity'].mean()\n",
    "a"
   ]
  },
  {
   "cell_type": "code",
   "execution_count": 22,
   "metadata": {},
   "outputs": [],
   "source": [
    "df_thriller=df[df['genres'].str.contains('Thriller')]\n",
    "df_comedy=df[df['genres'].str.contains('Comedy')]\n",
    "df_animation=df[df['genres'].str.contains('Animation')]"
   ]
  },
  {
   "cell_type": "code",
   "execution_count": 23,
   "metadata": {},
   "outputs": [
    {
     "name": "stderr",
     "output_type": "stream",
     "text": [
      "C:\\Users\\AARYA BRAHMANE\\Anaconda3\\lib\\site-packages\\ipykernel_launcher.py:5: SettingWithCopyWarning: \n",
      "A value is trying to be set on a copy of a slice from a DataFrame.\n",
      "Try using .loc[row_indexer,col_indexer] = value instead\n",
      "\n",
      "See the caveats in the documentation: http://pandas.pydata.org/pandas-docs/stable/indexing.html#indexing-view-versus-copy\n",
      "  \"\"\"\n",
      "C:\\Users\\AARYA BRAHMANE\\Anaconda3\\lib\\site-packages\\ipykernel_launcher.py:6: SettingWithCopyWarning: \n",
      "A value is trying to be set on a copy of a slice from a DataFrame.\n",
      "Try using .loc[row_indexer,col_indexer] = value instead\n",
      "\n",
      "See the caveats in the documentation: http://pandas.pydata.org/pandas-docs/stable/indexing.html#indexing-view-versus-copy\n",
      "  \n",
      "C:\\Users\\AARYA BRAHMANE\\Anaconda3\\lib\\site-packages\\ipykernel_launcher.py:7: SettingWithCopyWarning: \n",
      "A value is trying to be set on a copy of a slice from a DataFrame.\n",
      "Try using .loc[row_indexer,col_indexer] = value instead\n",
      "\n",
      "See the caveats in the documentation: http://pandas.pydata.org/pandas-docs/stable/indexing.html#indexing-view-versus-copy\n",
      "  import sys\n"
     ]
    }
   ],
   "source": [
    "decades=[1960,1965,1970,1975,1980,1985,1990,1995,2000,2010,2015,2020]\n",
    "\n",
    "decade_name=['1960','1965','1970','1975','1980','1985','1990','1995,2000','2005','2010','2015']\n",
    "\n",
    "df_thriller['release_decade']=pd.cut(df['release_year'],decades,labels=decade_name)\n",
    "df_comedy['release_decade']=pd.cut(df['release_year'],decades,labels=decade_name)\n",
    "df_animation['release_decade']=pd.cut(df['release_year'],decades,labels=decade_name)"
   ]
  },
  {
   "cell_type": "code",
   "execution_count": 24,
   "metadata": {},
   "outputs": [],
   "source": [
    "b=df_thriller.groupby('release_decade')['popularity'].mean()\n",
    "c=df_comedy.groupby('release_decade')['popularity'].mean()\n",
    "d=df_animation.groupby('release_decade')['popularity'].mean()\n"
   ]
  },
  {
   "cell_type": "code",
   "execution_count": 25,
   "metadata": {},
   "outputs": [
    {
     "data": {
      "text/plain": [
       "Text(0, 0.5, 'Popularity')"
      ]
     },
     "execution_count": 25,
     "metadata": {},
     "output_type": "execute_result"
    },
    {
     "data": {
      "image/png": "[encoded data removed]",
      "text/plain": [
       "<Figure size 1152x864 with 4 Axes>"
      ]
     },
     "metadata": {
      "needs_background": "light"
     },
     "output_type": "display_data"
    }
   ],
   "source": [
    "plt.figure(figsize=[16,12])\n",
    "plt.subplot(2,2,1)\n",
    "\n",
    "a.plot(kind='line',color = 'b', )\n",
    "plt.title(\"Popularity trend of Adventure movies\")\n",
    "plt.xlabel(\"Years\")\n",
    "plt.ylabel(\"Popularity\")\n",
    "\n",
    "plt.subplot(2,2,2)\n",
    "b.plot(kind='line',color = 'b', )\n",
    "plt.title(\"Popularity trend of Thriller movies\")\n",
    "plt.xlabel(\"Years\")\n",
    "plt.ylabel(\"Popularity\")\n",
    "\n",
    "plt.subplot(2,2,3)\n",
    "c.plot(kind='line',color = 'b', )\n",
    "plt.title(\"Popularity trend of Comedy movies\")\n",
    "plt.xlabel(\"Years\")\n",
    "plt.ylabel(\"Popularity\")\n",
    "\n",
    "plt.subplot(2,2,4)\n",
    "d.plot(kind='line',color = 'b', )\n",
    "plt.title(\"Popularity trend of Animation movies\")\n",
    "plt.xlabel(\"Years\")\n",
    "plt.ylabel(\"Popularity\")\n"
   ]
  },
  {
   "cell_type": "markdown",
   "metadata": {},
   "source": [
    "<a id='eda'></a>\n",
    "\n",
    "###  Analysis\n",
    "\n",
    "-> We can find the popularity of Adventure movie dived got reduced after 1970s till mid 1990s. From 2000s the popularity of these movies is increasing   linearly.\n",
    "\n",
    "-> Thriller movies became much popular during 1985-1990 and has then faced less dive in its popularity.\n",
    "\n",
    "->Comedy movies have fairly popular with few small dives. From 2005 they are also becoming popular.\n",
    "\n",
    "->The most stupefying analysis, aniamted movies were the most popular among the four genre in 1960s.\n",
    " Animated movies have sharp dives both upward and downward. Showing mercurial attitude of people towards animated movies\n",
    " \n",
    "-> Also we can clearly see there is no relation between year and popularity"
   ]
  },
  {
   "cell_type": "markdown",
   "metadata": {},
   "source": [
    "### 2.) Relation between popularity,budget and revenue?\n",
    "    a.) How is budget and revenue related?\n",
    "    b.) How is popularity and revenue related?\n",
    "    c.) How is budget and popularity related?"
   ]
  },
  {
   "cell_type": "markdown",
   "metadata": {},
   "source": [
    "Here I will apply Simple linear regression, to find  how much variability of one variable affects the other i.e Rsquared value\n",
    "\n",
    "**Relation of questions 2.a**"
   ]
  },
  {
   "cell_type": "code",
   "execution_count": 26,
   "metadata": {},
   "outputs": [
    {
     "data": {
      "text/html": [
       "<table class=\"simpletable\">\n",
       "<caption>OLS Regression Results</caption>\n",
       "<tr>\n",
       "  <th>Dep. Variable:</th>         <td>revenue</td>     <th>  R-squared:         </th>  <td>   0.506</td>  \n",
       "</tr>\n",
       "<tr>\n",
       "  <th>Model:</th>                   <td>OLS</td>       <th>  Adj. R-squared:    </th>  <td>   0.506</td>  \n",
       "</tr>\n",
       "<tr>\n",
       "  <th>Method:</th>             <td>Least Squares</td>  <th>  F-statistic:       </th>  <td>1.114e+04</td> \n",
       "</tr>\n",
       "<tr>\n",
       "  <th>Date:</th>             <td>Sat, 23 May 2020</td> <th>  Prob (F-statistic):</th>   <td>  0.00</td>   \n",
       "</tr>\n",
       "<tr>\n",
       "  <th>Time:</th>                 <td>04:09:47</td>     <th>  Log-Likelihood:    </th> <td>-2.1326e+05</td>\n",
       "</tr>\n",
       "<tr>\n",
       "  <th>No. Observations:</th>      <td> 10866</td>      <th>  AIC:               </th>  <td>4.265e+05</td> \n",
       "</tr>\n",
       "<tr>\n",
       "  <th>Df Residuals:</th>          <td> 10864</td>      <th>  BIC:               </th>  <td>4.265e+05</td> \n",
       "</tr>\n",
       "<tr>\n",
       "  <th>Df Model:</th>              <td>     1</td>      <th>                     </th>      <td> </td>     \n",
       "</tr>\n",
       "<tr>\n",
       "  <th>Covariance Type:</th>      <td>nonrobust</td>    <th>                     </th>      <td> </td>     \n",
       "</tr>\n",
       "</table>\n",
       "<table class=\"simpletable\">\n",
       "<tr>\n",
       "      <td></td>         <th>coef</th>     <th>std err</th>      <th>t</th>      <th>P>|t|</th>  <th>[0.025</th>    <th>0.975]</th>  \n",
       "</tr>\n",
       "<tr>\n",
       "  <th>budget</th>    <td>    2.9205</td> <td>    0.028</td> <td>  105.547</td> <td> 0.000</td> <td>    2.866</td> <td>    2.975</td>\n",
       "</tr>\n",
       "<tr>\n",
       "  <th>intercept</th> <td>-2.568e+07</td> <td> 9.91e+05</td> <td>  -25.922</td> <td> 0.000</td> <td>-2.76e+07</td> <td>-2.37e+07</td>\n",
       "</tr>\n",
       "</table>\n",
       "<table class=\"simpletable\">\n",
       "<tr>\n",
       "  <th>Omnibus:</th>       <td>7742.233</td> <th>  Durbin-Watson:     </th>  <td>   1.609</td>  \n",
       "</tr>\n",
       "<tr>\n",
       "  <th>Prob(Omnibus):</th>  <td> 0.000</td>  <th>  Jarque-Bera (JB):  </th> <td>4528035.077</td>\n",
       "</tr>\n",
       "<tr>\n",
       "  <th>Skew:</th>           <td> 2.153</td>  <th>  Prob(JB):          </th>  <td>    0.00</td>  \n",
       "</tr>\n",
       "<tr>\n",
       "  <th>Kurtosis:</th>       <td>102.913</td> <th>  Cond. No.          </th>  <td>4.58e+07</td>  \n",
       "</tr>\n",
       "</table><br/><br/>Warnings:<br/>[1] Standard Errors assume that the covariance matrix of the errors is correctly specified.<br/>[2] The condition number is large, 4.58e+07. This might indicate that there are<br/>strong multicollinearity or other numerical problems."
      ],
      "text/plain": [
       "<class 'statsmodels.iolib.summary.Summary'>\n",
       "\"\"\"\n",
       "                            OLS Regression Results                            \n",
       "==============================================================================\n",
       "Dep. Variable:                revenue   R-squared:                       0.506\n",
       "Model:                            OLS   Adj. R-squared:                  0.506\n",
       "Method:                 Least Squares   F-statistic:                 1.114e+04\n",
       "Date:                Sat, 23 May 2020   Prob (F-statistic):               0.00\n",
       "Time:                        04:09:47   Log-Likelihood:            -2.1326e+05\n",
       "No. Observations:               10866   AIC:                         4.265e+05\n",
       "Df Residuals:                   10864   BIC:                         4.265e+05\n",
       "Df Model:                           1                                         \n",
       "Covariance Type:            nonrobust                                         \n",
       "==============================================================================\n",
       "                 coef    std err          t      P>|t|      [0.025      0.975]\n",
       "------------------------------------------------------------------------------\n",
       "budget         2.9205      0.028    105.547      0.000       2.866       2.975\n",
       "intercept  -2.568e+07   9.91e+05    -25.922      0.000   -2.76e+07   -2.37e+07\n",
       "==============================================================================\n",
       "Omnibus:                     7742.233   Durbin-Watson:                   1.609\n",
       "Prob(Omnibus):                  0.000   Jarque-Bera (JB):          4528035.077\n",
       "Skew:                           2.153   Prob(JB):                         0.00\n",
       "Kurtosis:                     102.913   Cond. No.                     4.58e+07\n",
       "==============================================================================\n",
       "\n",
       "Warnings:\n",
       "[1] Standard Errors assume that the covariance matrix of the errors is correctly specified.\n",
       "[2] The condition number is large, 4.58e+07. This might indicate that there are\n",
       "strong multicollinearity or other numerical problems.\n",
       "\"\"\""
      ]
     },
     "execution_count": 26,
     "metadata": {},
     "output_type": "execute_result"
    }
   ],
   "source": [
    "df['intercept']=1\n",
    "lm=sm.OLS(df['revenue'],df[['budget','intercept']])\n",
    "r=lm.fit()\n",
    "r.summary()"
   ]
  },
  {
   "cell_type": "markdown",
   "metadata": {},
   "source": [
    "**Relation of questions 2.b**"
   ]
  },
  {
   "cell_type": "code",
   "execution_count": 27,
   "metadata": {},
   "outputs": [
    {
     "data": {
      "text/html": [
       "<table class=\"simpletable\">\n",
       "<caption>OLS Regression Results</caption>\n",
       "<tr>\n",
       "  <th>Dep. Variable:</th>         <td>revenue</td>     <th>  R-squared:         </th>  <td>   0.416</td>  \n",
       "</tr>\n",
       "<tr>\n",
       "  <th>Model:</th>                   <td>OLS</td>       <th>  Adj. R-squared:    </th>  <td>   0.416</td>  \n",
       "</tr>\n",
       "<tr>\n",
       "  <th>Method:</th>             <td>Least Squares</td>  <th>  F-statistic:       </th>  <td>   7733.</td>  \n",
       "</tr>\n",
       "<tr>\n",
       "  <th>Date:</th>             <td>Sat, 23 May 2020</td> <th>  Prob (F-statistic):</th>   <td>  0.00</td>   \n",
       "</tr>\n",
       "<tr>\n",
       "  <th>Time:</th>                 <td>04:09:47</td>     <th>  Log-Likelihood:    </th> <td>-2.1417e+05</td>\n",
       "</tr>\n",
       "<tr>\n",
       "  <th>No. Observations:</th>      <td> 10866</td>      <th>  AIC:               </th>  <td>4.283e+05</td> \n",
       "</tr>\n",
       "<tr>\n",
       "  <th>Df Residuals:</th>          <td> 10864</td>      <th>  BIC:               </th>  <td>4.284e+05</td> \n",
       "</tr>\n",
       "<tr>\n",
       "  <th>Df Model:</th>              <td>     1</td>      <th>                     </th>      <td> </td>     \n",
       "</tr>\n",
       "<tr>\n",
       "  <th>Covariance Type:</th>      <td>nonrobust</td>    <th>                     </th>      <td> </td>     \n",
       "</tr>\n",
       "</table>\n",
       "<table class=\"simpletable\">\n",
       "<tr>\n",
       "       <td></td>         <th>coef</th>     <th>std err</th>      <th>t</th>      <th>P>|t|</th>  <th>[0.025</th>    <th>0.975]</th>  \n",
       "</tr>\n",
       "<tr>\n",
       "  <th>popularity</th> <td> 7.413e+07</td> <td> 8.43e+05</td> <td>   87.936</td> <td> 0.000</td> <td> 7.25e+07</td> <td> 7.58e+07</td>\n",
       "</tr>\n",
       "<tr>\n",
       "  <th>intercept</th>  <td>-8.491e+06</td> <td>    1e+06</td> <td>   -8.458</td> <td> 0.000</td> <td>-1.05e+07</td> <td>-6.52e+06</td>\n",
       "</tr>\n",
       "</table>\n",
       "<table class=\"simpletable\">\n",
       "<tr>\n",
       "  <th>Omnibus:</th>       <td>6459.937</td> <th>  Durbin-Watson:     </th>  <td>   1.745</td>  \n",
       "</tr>\n",
       "<tr>\n",
       "  <th>Prob(Omnibus):</th>  <td> 0.000</td>  <th>  Jarque-Bera (JB):  </th> <td>3878220.733</td>\n",
       "</tr>\n",
       "<tr>\n",
       "  <th>Skew:</th>           <td> 1.503</td>  <th>  Prob(JB):          </th>  <td>    0.00</td>  \n",
       "</tr>\n",
       "<tr>\n",
       "  <th>Kurtosis:</th>       <td>95.503</td>  <th>  Cond. No.          </th>  <td>    1.89</td>  \n",
       "</tr>\n",
       "</table><br/><br/>Warnings:<br/>[1] Standard Errors assume that the covariance matrix of the errors is correctly specified."
      ],
      "text/plain": [
       "<class 'statsmodels.iolib.summary.Summary'>\n",
       "\"\"\"\n",
       "                            OLS Regression Results                            \n",
       "==============================================================================\n",
       "Dep. Variable:                revenue   R-squared:                       0.416\n",
       "Model:                            OLS   Adj. R-squared:                  0.416\n",
       "Method:                 Least Squares   F-statistic:                     7733.\n",
       "Date:                Sat, 23 May 2020   Prob (F-statistic):               0.00\n",
       "Time:                        04:09:47   Log-Likelihood:            -2.1417e+05\n",
       "No. Observations:               10866   AIC:                         4.283e+05\n",
       "Df Residuals:                   10864   BIC:                         4.284e+05\n",
       "Df Model:                           1                                         \n",
       "Covariance Type:            nonrobust                                         \n",
       "==============================================================================\n",
       "                 coef    std err          t      P>|t|      [0.025      0.975]\n",
       "------------------------------------------------------------------------------\n",
       "popularity  7.413e+07   8.43e+05     87.936      0.000    7.25e+07    7.58e+07\n",
       "intercept  -8.491e+06      1e+06     -8.458      0.000   -1.05e+07   -6.52e+06\n",
       "==============================================================================\n",
       "Omnibus:                     6459.937   Durbin-Watson:                   1.745\n",
       "Prob(Omnibus):                  0.000   Jarque-Bera (JB):          3878220.733\n",
       "Skew:                           1.503   Prob(JB):                         0.00\n",
       "Kurtosis:                      95.503   Cond. No.                         1.89\n",
       "==============================================================================\n",
       "\n",
       "Warnings:\n",
       "[1] Standard Errors assume that the covariance matrix of the errors is correctly specified.\n",
       "\"\"\""
      ]
     },
     "execution_count": 27,
     "metadata": {},
     "output_type": "execute_result"
    }
   ],
   "source": [
    "df['intercept']=1\n",
    "lm=sm.OLS(df['revenue'],df[['popularity','intercept']])\n",
    "r=lm.fit()\n",
    "r.summary()"
   ]
  },
  {
   "cell_type": "markdown",
   "metadata": {},
   "source": [
    "**Relation of questions 2.c**"
   ]
  },
  {
   "cell_type": "code",
   "execution_count": 28,
   "metadata": {},
   "outputs": [
    {
     "data": {
      "text/html": [
       "<table class=\"simpletable\">\n",
       "<caption>OLS Regression Results</caption>\n",
       "<tr>\n",
       "  <th>Dep. Variable:</th>       <td>popularity</td>    <th>  R-squared:         </th> <td>   0.266</td> \n",
       "</tr>\n",
       "<tr>\n",
       "  <th>Model:</th>                   <td>OLS</td>       <th>  Adj. R-squared:    </th> <td>   0.266</td> \n",
       "</tr>\n",
       "<tr>\n",
       "  <th>Method:</th>             <td>Least Squares</td>  <th>  F-statistic:       </th> <td>   3943.</td> \n",
       "</tr>\n",
       "<tr>\n",
       "  <th>Date:</th>             <td>Sat, 23 May 2020</td> <th>  Prob (F-statistic):</th>  <td>  0.00</td>  \n",
       "</tr>\n",
       "<tr>\n",
       "  <th>Time:</th>                 <td>04:09:47</td>     <th>  Log-Likelihood:    </th> <td> -13738.</td> \n",
       "</tr>\n",
       "<tr>\n",
       "  <th>No. Observations:</th>      <td> 10866</td>      <th>  AIC:               </th> <td>2.748e+04</td>\n",
       "</tr>\n",
       "<tr>\n",
       "  <th>Df Residuals:</th>          <td> 10864</td>      <th>  BIC:               </th> <td>2.749e+04</td>\n",
       "</tr>\n",
       "<tr>\n",
       "  <th>Df Model:</th>              <td>     1</td>      <th>                     </th>     <td> </td>    \n",
       "</tr>\n",
       "<tr>\n",
       "  <th>Covariance Type:</th>      <td>nonrobust</td>    <th>                     </th>     <td> </td>    \n",
       "</tr>\n",
       "</table>\n",
       "<table class=\"simpletable\">\n",
       "<tr>\n",
       "      <td></td>         <th>coef</th>     <th>std err</th>      <th>t</th>      <th>P>|t|</th>  <th>[0.025</th>    <th>0.975]</th>  \n",
       "</tr>\n",
       "<tr>\n",
       "  <th>budget</th>    <td> 1.842e-08</td> <td> 2.93e-10</td> <td>   62.790</td> <td> 0.000</td> <td> 1.78e-08</td> <td>  1.9e-08</td>\n",
       "</tr>\n",
       "<tr>\n",
       "  <th>intercept</th> <td>    0.2357</td> <td>    0.011</td> <td>   22.439</td> <td> 0.000</td> <td>    0.215</td> <td>    0.256</td>\n",
       "</tr>\n",
       "</table>\n",
       "<table class=\"simpletable\">\n",
       "<tr>\n",
       "  <th>Omnibus:</th>       <td>17941.972</td> <th>  Durbin-Watson:     </th>   <td>   0.723</td>  \n",
       "</tr>\n",
       "<tr>\n",
       "  <th>Prob(Omnibus):</th>  <td> 0.000</td>   <th>  Jarque-Bera (JB):  </th> <td>33160633.846</td>\n",
       "</tr>\n",
       "<tr>\n",
       "  <th>Skew:</th>           <td>10.685</td>   <th>  Prob(JB):          </th>   <td>    0.00</td>  \n",
       "</tr>\n",
       "<tr>\n",
       "  <th>Kurtosis:</th>       <td>272.789</td>  <th>  Cond. No.          </th>   <td>4.58e+07</td>  \n",
       "</tr>\n",
       "</table><br/><br/>Warnings:<br/>[1] Standard Errors assume that the covariance matrix of the errors is correctly specified.<br/>[2] The condition number is large, 4.58e+07. This might indicate that there are<br/>strong multicollinearity or other numerical problems."
      ],
      "text/plain": [
       "<class 'statsmodels.iolib.summary.Summary'>\n",
       "\"\"\"\n",
       "                            OLS Regression Results                            \n",
       "==============================================================================\n",
       "Dep. Variable:             popularity   R-squared:                       0.266\n",
       "Model:                            OLS   Adj. R-squared:                  0.266\n",
       "Method:                 Least Squares   F-statistic:                     3943.\n",
       "Date:                Sat, 23 May 2020   Prob (F-statistic):               0.00\n",
       "Time:                        04:09:47   Log-Likelihood:                -13738.\n",
       "No. Observations:               10866   AIC:                         2.748e+04\n",
       "Df Residuals:                   10864   BIC:                         2.749e+04\n",
       "Df Model:                           1                                         \n",
       "Covariance Type:            nonrobust                                         \n",
       "==============================================================================\n",
       "                 coef    std err          t      P>|t|      [0.025      0.975]\n",
       "------------------------------------------------------------------------------\n",
       "budget      1.842e-08   2.93e-10     62.790      0.000    1.78e-08     1.9e-08\n",
       "intercept      0.2357      0.011     22.439      0.000       0.215       0.256\n",
       "==============================================================================\n",
       "Omnibus:                    17941.972   Durbin-Watson:                   0.723\n",
       "Prob(Omnibus):                  0.000   Jarque-Bera (JB):         33160633.846\n",
       "Skew:                          10.685   Prob(JB):                         0.00\n",
       "Kurtosis:                     272.789   Cond. No.                     4.58e+07\n",
       "==============================================================================\n",
       "\n",
       "Warnings:\n",
       "[1] Standard Errors assume that the covariance matrix of the errors is correctly specified.\n",
       "[2] The condition number is large, 4.58e+07. This might indicate that there are\n",
       "strong multicollinearity or other numerical problems.\n",
       "\"\"\""
      ]
     },
     "execution_count": 28,
     "metadata": {},
     "output_type": "execute_result"
    }
   ],
   "source": [
    "df['intercept']=1\n",
    "lm=sm.OLS(df['popularity'],df[['budget','intercept']])\n",
    "r=lm.fit()\n",
    "r.summary()"
   ]
  },
  {
   "cell_type": "code",
   "execution_count": 29,
   "metadata": {},
   "outputs": [
    {
     "data": {
      "text/plain": [
       "Text(0, 0.5, 'Revenue')"
      ]
     },
     "execution_count": 29,
     "metadata": {},
     "output_type": "execute_result"
    },
    {
     "data": {
      "text/plain": [
       "<Figure size 1008x864 with 0 Axes>"
      ]
     },
     "metadata": {},
     "output_type": "display_data"
    },
    {
     "data": {
      "image/png": "[encoded data removed]",
      "text/plain": [
       "<Figure size 432x288 with 1 Axes>"
      ]
     },
     "metadata": {
      "needs_background": "light"
     },
     "output_type": "display_data"
    }
   ],
   "source": [
    "plt.figure(figsize=(14,12))\n",
    "df.plot(kind='scatter',x='budget',y='revenue')\n",
    "plt.title(\"Relation between Budget and Revenue\")\n",
    "plt.xlabel(\"Budget\")\n",
    "plt.ylabel(\"Revenue\")\n",
    "\n"
   ]
  },
  {
   "cell_type": "code",
   "execution_count": 30,
   "metadata": {},
   "outputs": [
    {
     "data": {
      "text/plain": [
       "Text(0, 0.5, 'Revenue')"
      ]
     },
     "execution_count": 30,
     "metadata": {},
     "output_type": "execute_result"
    },
    {
     "data": {
      "text/plain": [
       "<Figure size 1008x864 with 0 Axes>"
      ]
     },
     "metadata": {},
     "output_type": "display_data"
    },
    {
     "data": {
      "image/png": "[encoded data removed]",
      "text/plain": [
       "<Figure size 432x288 with 1 Axes>"
      ]
     },
     "metadata": {
      "needs_background": "light"
     },
     "output_type": "display_data"
    }
   ],
   "source": [
    "plt.figure(figsize=(14,12))\n",
    "df.plot(kind='scatter',x='popularity',y='revenue')\n",
    "plt.title(\"Relation between Popularity and Revenue\")\n",
    "plt.xlabel(\"Popularity\")\n",
    "plt.ylabel(\"Revenue\")\n",
    "\n"
   ]
  },
  {
   "cell_type": "code",
   "execution_count": 31,
   "metadata": {},
   "outputs": [
    {
     "data": {
      "text/plain": [
       "Text(0, 0.5, 'Popularity')"
      ]
     },
     "execution_count": 31,
     "metadata": {},
     "output_type": "execute_result"
    },
    {
     "data": {
      "text/plain": [
       "<Figure size 1008x864 with 0 Axes>"
      ]
     },
     "metadata": {},
     "output_type": "display_data"
    },
    {
     "data": {
      "image/png": "[encoded data removed]",
      "text/plain": [
       "<Figure size 432x288 with 1 Axes>"
      ]
     },
     "metadata": {
      "needs_background": "light"
     },
     "output_type": "display_data"
    }
   ],
   "source": [
    "plt.figure(figsize=(14,12))\n",
    "df.plot(kind='scatter',x='budget',y='popularity')\n",
    "plt.title(\"Relation between Budget and Popularity\")\n",
    "plt.xlabel(\"Budget\")\n",
    "plt.ylabel(\"Popularity\")\n"
   ]
  },
  {
   "cell_type": "markdown",
   "metadata": {},
   "source": [
    "**Analysis**\n",
    "\n",
    "->R squared value of 0.508  in Budget and Revenue relations shows 50.8% of  varaiablity of Revenue depends on the Budget of the movie\n",
    "\n",
    "->R squared value of 0.416 in Popularity and Revenue relation shows 41.6% of variability of Revenue depends on Popularity of the movie.\n",
    "    of the two we can compare, for revenue of movie Budget plays more importatn role\n",
    "    \n",
    "->R squared value of 0.266 in Budget and Popularity relations shows only 26.6% of variability of Popularity depends on Budget, moreover since the value if closer to 0, our Simple Linear model does not fit well.    "
   ]
  },
  {
   "cell_type": "markdown",
   "metadata": {},
   "source": [
    "### 3.) Whose movie earned the highest total revenue? \n",
    "    a.) Leonardo DiCaprio\n",
    "    b.) Dwayne Johnson\n",
    "    c.) Tom Cruise\n",
    "    d.) Christian Bale"
   ]
  },
  {
   "cell_type": "markdown",
   "metadata": {},
   "source": [
    "These are the actors whose movies have created mega box office hits and some of their movies are also my personal fav. :)"
   ]
  },
  {
   "cell_type": "code",
   "execution_count": 32,
   "metadata": {},
   "outputs": [],
   "source": [
    "df_leo=df[df['cast'].str.contains('Leonardo DiCaprio')]['revenue'].sum()\n"
   ]
  },
  {
   "cell_type": "code",
   "execution_count": 33,
   "metadata": {},
   "outputs": [],
   "source": [
    "df_dwa=df[df['cast'].str.contains('Dwayne Johnson')]['revenue'].sum()\n"
   ]
  },
  {
   "cell_type": "code",
   "execution_count": 34,
   "metadata": {},
   "outputs": [],
   "source": [
    "df_tom=df[df['cast'].str.contains('Tom Cruise')]['revenue'].sum()\n"
   ]
  },
  {
   "cell_type": "code",
   "execution_count": 35,
   "metadata": {},
   "outputs": [],
   "source": [
    "df_chr=df[df['cast'].str.contains('Christian Bale')]['revenue'].sum()\n"
   ]
  },
  {
   "cell_type": "code",
   "execution_count": 41,
   "metadata": {},
   "outputs": [
    {
     "data": {
      "text/plain": [
       "Text(0.5, 0, 'Revenue')"
      ]
     },
     "execution_count": 41,
     "metadata": {},
     "output_type": "execute_result"
    },
    {
     "data": {
      "image/png": "[encoded data removed]",
      "text/plain": [
       "<Figure size 432x288 with 1 Axes>"
      ]
     },
     "metadata": {
      "needs_background": "light"
     },
     "output_type": "display_data"
    }
   ],
   "source": [
    "names=('Leonardo Dicaprio','Dwayne Johnson','Tom Cruise','Christian Bale')\n",
    "y_pos=np.arange(len(names))\n",
    "reve=[df_leo,df_dwa,df_tom,df_chr]\n",
    "plt.barh(y_pos,reve,alpha=0.5)\n",
    "plt.yticks(y_pos,names)\n",
    "plt.ylabel('Actors')\n",
    "plt.xlabel('Revenue')\n",
    "\n"
   ]
  },
  {
   "cell_type": "markdown",
   "metadata": {},
   "source": [
    "**Analysis**\n",
    "\n",
    "We can clearly see Earnings of Tom Cruise is the highest among the four actors and Christian Bale earned the least. x axis is in exponentionl to 10, its obvious the sum total earnings of this actors are in millions!!"
   ]
  },
  {
   "cell_type": "markdown",
   "metadata": {},
   "source": [
    "<a id='conclusions'></a>\n",
    "## Conclusions\n",
    "\n",
    "> Popularity Trends of different movie genres was found through the timeline, thoughg the reason behind the increase and decrease in popularity could not be found from the data available \n",
    "\n",
    "> Simple linear regression model was used to find in between relation of budget, popularity and revenue. But a considerable result was only found in Budget and Revenue, which showed variability of 50.8% in revenue because of Budget. Other relations were not satisfactory and hinted other models to be applied "
   ]
  },
  {
   "cell_type": "code",
   "execution_count": null,
   "metadata": {
    "collapsed": true
   },
   "outputs": [],
   "source": []
  }
 ],
 "metadata": {
  "kernelspec": {
   "display_name": "Python 3",
   "language": "python",
   "name": "python3"
  },
  "language_info": {
   "codemirror_mode": {
    "name": "ipython",
    "version": 3
   },
   "file_extension": ".py",
   "mimetype": "text/x-python",
   "name": "python",
   "nbconvert_exporter": "python",
   "pygments_lexer": "ipython3",
   "version": "3.7.3"
  }
 },
 "nbformat": 4,
 "nbformat_minor": 2
}
